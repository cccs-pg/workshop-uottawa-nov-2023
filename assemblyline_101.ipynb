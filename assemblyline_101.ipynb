{
 "cells": [
  {
   "cell_type": "code",
   "execution_count": null,
   "id": "9da4e7fe-e250-4d1c-8b2a-8b0dd76d863b",
   "metadata": {},
   "outputs": [],
   "source": [
    "pip install assemblyline_client"
   ]
  },
  {
   "cell_type": "code",
   "execution_count": null,
   "id": "6c6e5a97-3b24-4827-89ac-f2cecb00deaf",
   "metadata": {},
   "outputs": [],
   "source": [
    "# import logging\n",
    "\n",
    "# # These two lines enable debugging at httplib level (requests->urllib3->http.client)\n",
    "# # You will see the REQUEST, including HEADERS and DATA, and RESPONSE with HEADERS but without DATA.\n",
    "# # The only thing missing will be the response.body which is not logged.\n",
    "# try:\n",
    "#     import http.client as http_client\n",
    "# except ImportError:\n",
    "#     # Python 2\n",
    "#     import httplib as http_client\n",
    "# http_client.HTTPConnection.debuglevel = 1\n",
    "\n",
    "# # You must initialize logging, otherwise you'll not see debug output.\n",
    "# logging.basicConfig()\n",
    "# logging.getLogger().setLevel(logging.DEBUG)\n",
    "# requests_log = logging.getLogger(\"requests.packages.urllib3\")\n",
    "# requests_log.setLevel(logging.DEBUG)\n",
    "# requests_log.propagate = True"
   ]
  },
  {
   "cell_type": "code",
   "execution_count": null,
   "id": "28853f7b-fd03-409f-8df3-3786404f3213",
   "metadata": {},
   "outputs": [],
   "source": [
    "from dotenv import load_dotenv\n",
    "import os\n",
    "\n",
    "load_dotenv()\n",
    "\n",
    "AL_API_KEY = os.getenv('AL_API_KEY')\n",
    "AL_USER = os.getenv('AL_USER')"
   ]
  },
  {
   "cell_type": "code",
   "execution_count": null,
   "id": "1ab76948-7d92-4d8e-9096-70ff8ab5071f",
   "metadata": {},
   "outputs": [],
   "source": [
    "import json"
   ]
  },
  {
   "cell_type": "code",
   "execution_count": null,
   "id": "4f2d9bfe-6003-4ccb-975d-36ace8f90ea5",
   "metadata": {},
   "outputs": [],
   "source": [
    "import requests\n",
    "response = requests.get(\n",
    "    \"https://malware.cyber.gc.ca/api/v4/user/whoami/\",\n",
    "    headers={\n",
    "        \"x-user\": AL_USER,\n",
    "        \"x-apikey\": AL_API_KEY,\n",
    "        \"accept\": \"application/json\"\n",
    "    }\n",
    ")\n",
    "\n",
    "# print(response.request.headers)\n",
    "print(response.status_code)\n",
    "\n",
    "json_data = json.loads(response.text)\n",
    "print(f'api server version = {json_data[\"api_server_version\"]}')\n",
    "print(f'username = {json_data[\"api_response\"][\"username\"]}')"
   ]
  },
  {
   "cell_type": "code",
   "execution_count": null,
   "id": "df86aa75-c0dd-45f0-94a4-315bcb320b03",
   "metadata": {},
   "outputs": [],
   "source": [
    "from assemblyline_client import get_client\n",
    "al_client = get_client(\"https://malware.cyber.gc.ca:443\", apikey=(AL_USER, AL_API_KEY))\n",
    "search_result = al_client.search.file(\"sha256:5db809dc08b230ed5878b049e2787369fd47fd4dd28aad3fd07dbd6a2408f8aa\", fl=\"*\")"
   ]
  },
  {
   "cell_type": "code",
   "execution_count": null,
   "id": "e8ef39f7-5738-4ba1-9383-33cbc056f37a",
   "metadata": {},
   "outputs": [],
   "source": [
    "print(json.dumps(search_result))"
   ]
  },
  {
   "cell_type": "code",
   "execution_count": null,
   "id": "a65edcb8-b461-4f57-8b6b-2b7679289bcf",
   "metadata": {},
   "outputs": [],
   "source": [
    "search_result = al_client.search.result(\"sha256:5db809dc08b230ed5878b049e2787369fd47fd4dd28aad3fd07dbd6a2408f8aa AND response.service_name:AntiVirus\", fl=\"*\")"
   ]
  },
  {
   "cell_type": "code",
   "execution_count": null,
   "id": "a6faf70e-c868-4fe1-9868-509534181772",
   "metadata": {},
   "outputs": [],
   "source": [
    "# print(json.dumps(search_result, indent=2))\n",
    "from IPython.display import JSON\n",
    "JSON(search_result, expanded=False)"
   ]
  },
  {
   "cell_type": "code",
   "execution_count": null,
   "id": "16d8fc7e-5dbf-43ad-b6ff-22ffc507b441",
   "metadata": {},
   "outputs": [],
   "source": [
    "print(\"\\n\".join([i['title_text'] for i in search_result['items'][0]['result']['sections']]))"
   ]
  },
  {
   "cell_type": "code",
   "execution_count": null,
   "id": "a9578b55-f4c2-46c7-a057-156cc5225e52",
   "metadata": {},
   "outputs": [],
   "source": [
    "print(json.dumps([i['title_text'] for i in search_result['items'][0]['result']['sections']]))"
   ]
  },
  {
   "cell_type": "code",
   "execution_count": null,
   "id": "60dab658-428c-4d4f-a2a2-842ba7b302e5",
   "metadata": {},
   "outputs": [],
   "source": []
  }
 ],
 "metadata": {
  "language_info": {
   "name": "python"
  }
 },
 "nbformat": 4,
 "nbformat_minor": 5
}

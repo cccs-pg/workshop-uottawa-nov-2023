{
 "cells": [
  {
   "cell_type": "code",
   "execution_count": null,
   "id": "e5a8f28e-a24c-4f8c-84c5-082ce3287384",
   "metadata": {},
   "outputs": [],
   "source": [
    "pip install langchain"
   ]
  },
  {
   "cell_type": "code",
   "execution_count": null,
   "id": "05b74488-b50e-473c-9a5d-2ce29ac4645a",
   "metadata": {},
   "outputs": [],
   "source": [
    "from dotenv import load_dotenv\n",
    "import os\n",
    "\n",
    "load_dotenv()"
   ]
  },
  {
   "cell_type": "markdown",
   "id": "3ebb5108-c3e1-4dc0-be1b-e5a3070e8195",
   "metadata": {},
   "source": [
    "## langchain OpenAI LLM"
   ]
  },
  {
   "cell_type": "code",
   "execution_count": null,
   "id": "e988f394-f019-4118-bdcc-eeb63aec0efd",
   "metadata": {},
   "outputs": [],
   "source": [
    "from langchain.llms import OpenAI\n",
    "from langchain.prompts import PromptTemplate\n",
    "from langchain.chains import LLMChain"
   ]
  },
  {
   "cell_type": "code",
   "execution_count": null,
   "id": "7527e329-d33d-4942-9964-059412ce3eda",
   "metadata": {},
   "outputs": [],
   "source": [
    "template = \"\"\"Question: {question}\n",
    "\n",
    "Answer: Let's think step by step.\"\"\"\n",
    "\n",
    "prompt = PromptTemplate(template=template, input_variables=[\"question\"])"
   ]
  },
  {
   "cell_type": "code",
   "execution_count": null,
   "id": "192e65f0-64f3-4c67-9508-6e69ee179a45",
   "metadata": {},
   "outputs": [],
   "source": [
    "llm = OpenAI()\n",
    "llm_chain = LLMChain(prompt=prompt, llm=llm)"
   ]
  },
  {
   "cell_type": "code",
   "execution_count": null,
   "id": "0259a4f7-31c9-4852-b756-8aa61a4187c6",
   "metadata": {},
   "outputs": [],
   "source": [
    "question = \"What NFL team won the Super Bowl in the year Justin Beiber was born?\"\n",
    "\n",
    "llm_chain.run(question)"
   ]
  },
  {
   "cell_type": "markdown",
   "id": "1b5e5ae1-648f-4b91-bae0-07e578520a71",
   "metadata": {},
   "source": [
    "## langchain ChatOpenAI "
   ]
  },
  {
   "cell_type": "code",
   "execution_count": null,
   "id": "4ecf65b4-fc3e-4176-8b7c-a2fd36d2db0f",
   "metadata": {},
   "outputs": [],
   "source": [
    "from langchain.chat_models import ChatOpenAI\n",
    "from langchain.prompts.chat import (\n",
    "    ChatPromptTemplate,\n",
    "    SystemMessagePromptTemplate,\n",
    "    AIMessagePromptTemplate,\n",
    "    HumanMessagePromptTemplate,\n",
    ")\n",
    "from langchain.schema import AIMessage, HumanMessage, SystemMessage"
   ]
  },
  {
   "cell_type": "code",
   "execution_count": null,
   "id": "8400058f-40ad-48af-8037-f6b268b291c9",
   "metadata": {},
   "outputs": [],
   "source": [
    "chat = ChatOpenAI(temperature=0.25)"
   ]
  },
  {
   "cell_type": "code",
   "execution_count": null,
   "id": "78ea7114-8b56-4200-ad37-40d3f4596ca2",
   "metadata": {},
   "outputs": [],
   "source": [
    "messages = [\n",
    "    SystemMessage(\n",
    "        content=\"You are a helpful assistant that translates English to French.\"\n",
    "    ),\n",
    "    HumanMessage(\n",
    "        content=\"Translate this sentence from English to French. I love programming.\"\n",
    "    ),\n",
    "]\n",
    "chat(messages)"
   ]
  },
  {
   "cell_type": "markdown",
   "id": "1e018371-9661-4da3-a105-fcfcc6d68591",
   "metadata": {},
   "source": [
    "### langchain ChatOpenAI (with templates)"
   ]
  },
  {
   "cell_type": "code",
   "execution_count": null,
   "id": "b3f1404a-3cb6-4318-998a-174a971f3a1f",
   "metadata": {},
   "outputs": [],
   "source": [
    "template = (\n",
    "    \"You are a helpful assistant that translates {input_language} to {output_language}.\"\n",
    ")\n",
    "system_message_prompt = SystemMessagePromptTemplate.from_template(template)\n",
    "human_template = \"{text}\"\n",
    "human_message_prompt = HumanMessagePromptTemplate.from_template(human_template)\n",
    "chat_prompt = ChatPromptTemplate.from_messages(\n",
    "    [system_message_prompt, human_message_prompt]\n",
    ")"
   ]
  },
  {
   "cell_type": "code",
   "execution_count": null,
   "id": "e47a6147-c922-4c26-a66c-9b0f977b5585",
   "metadata": {},
   "outputs": [],
   "source": [
    "# get a chat completion from the formatted messages\n",
    "chat(\n",
    "    chat_prompt.format_prompt(\n",
    "        input_language=\"English\", output_language=\"French\", text=\"I love programming.\"\n",
    "    ).to_messages()\n",
    ")"
   ]
  },
  {
   "cell_type": "markdown",
   "id": "f5dea969-f53a-413f-87d8-e5feefbbd5be",
   "metadata": {},
   "source": [
    "## langchain tool calling python function"
   ]
  },
  {
   "cell_type": "code",
   "execution_count": null,
   "id": "ab7df4aa-cf96-4ff9-a7e1-21fcd41c2131",
   "metadata": {},
   "outputs": [],
   "source": [
    "import json\n",
    "\n",
    "def get_current_weather(location, unit=\"fahrenheit\"):\n",
    "    \"\"\"Get the current weather in a given location\"\"\"\n",
    "    weather_info = {\n",
    "        \"location\": location,\n",
    "        \"temperature\": \"72\",\n",
    "        \"unit\": unit,\n",
    "        \"forecast\": [\"sunny\", \"windy\"],\n",
    "    }\n",
    "    return json.dumps(weather_info)"
   ]
  },
  {
   "cell_type": "code",
   "execution_count": null,
   "id": "c1de2aa7-e4c3-450a-90ff-9df0b92a26ba",
   "metadata": {},
   "outputs": [],
   "source": [
    "from langchain.agents import initialize_agent, Tool\n",
    "from langchain.agents import AgentType\n",
    "\n",
    "llm = ChatOpenAI(temperature=0, model=\"gpt-3.5-turbo-0613\")\n",
    "tools = [\n",
    "    Tool(\n",
    "        name = \"GetCurrentWeather\",\n",
    "        func=get_current_weather,\n",
    "        description=\"useful for when you need to answer questions about current weather for a given location\"\n",
    "    )\n",
    "]\n",
    "mrkl = initialize_agent(tools, llm, agent=AgentType.OPENAI_FUNCTIONS, verbose=True)"
   ]
  },
  {
   "cell_type": "code",
   "execution_count": null,
   "id": "0412ea5f-80ff-4b05-a482-26a6ea23db3d",
   "metadata": {},
   "outputs": [],
   "source": [
    "mrkl.run(\"What's the weather like in Boston?\")"
   ]
  },
  {
   "cell_type": "markdown",
   "id": "60f9a013-f98f-4aaf-8357-10bbb5abbf15",
   "metadata": {},
   "source": [
    "## langchain calling CCCS tools: AssemblyLine and Beaver"
   ]
  },
  {
   "cell_type": "code",
   "execution_count": null,
   "id": "669f53b0-3694-4430-8d0a-3030e2e9997b",
   "metadata": {},
   "outputs": [],
   "source": [
    "AL_API_KEY = os.getenv('AL_API_KEY')\n",
    "AL_USER = os.getenv('AL_USER')\n",
    "BEAVER_API_KEY = os.getenv('BEAVER_API_KEY')"
   ]
  },
  {
   "cell_type": "code",
   "execution_count": null,
   "id": "eedc5953-7144-43d9-b3ca-21c32fa7f3bd",
   "metadata": {},
   "outputs": [],
   "source": [
    "from assemblyline_client import get_client\n",
    "al_client = get_client(\"https://malware.cyber.gc.ca:443\", apikey=(AL_USER, AL_API_KEY))"
   ]
  },
  {
   "cell_type": "code",
   "execution_count": null,
   "id": "6f832e63-30dd-43e8-854f-db5ba0ffc296",
   "metadata": {},
   "outputs": [],
   "source": [
    "import requests\n",
    "def beaver_search(sha256):\n",
    "    response = requests.get(\n",
    "        f\"https://beaver.ops.cyber.gc.ca/auth/api/sha256/{sha256}/json\",\n",
    "        headers={\n",
    "            \"X-API-Key\": BEAVER_API_KEY,\n",
    "            \"Accept\": \"application/json\",\n",
    "        }\n",
    "    )\n",
    "    return response"
   ]
  },
  {
   "cell_type": "code",
   "execution_count": null,
   "id": "f09807fc-1f50-4fab-b8e4-8c1b73e7b334",
   "metadata": {},
   "outputs": [],
   "source": [
    "def get_antivirus_service_results_from_al(sha256):\n",
    "    \"\"\"Get the AssemblyLine antivirus report for the given sha256\"\"\"\n",
    "    search_result = al_client.search.result(f'sha256:{sha256} AND response.service_name:AntiVirus', fl=\"*\")\n",
    "    # return \"\\n\".join([i['title_text'] for i in search_result['items'][0]['result']['sections']])\n",
    "    if len(search_result['items']) > 0:\n",
    "        return json.dumps([i['title_text'] for i in search_result['items'][0]['result']['sections']])\n",
    "    else:\n",
    "        return \"No antivirus report available for this sha256 in AssemblyLine\"\n",
    "\n",
    "def get_antivirus_service_results_from_beaver(sha256):\n",
    "    response = beaver_search(sha256)\n",
    "    if response.status_code == 200:\n",
    "        json_data = json.loads(response.text)\n",
    "        return json.dumps(json_data['malwareReport']['reports']['SHADOW_SERVER'][0]['results'])\n",
    "    else:\n",
    "        return \"No antivirus report available for this sha256 in Beaver\""
   ]
  },
  {
   "cell_type": "code",
   "execution_count": null,
   "id": "22ae0df6-797d-4aa2-ab0f-4bd49161cdb8",
   "metadata": {},
   "outputs": [],
   "source": [
    "tools = [\n",
    "    Tool(\n",
    "        name = \"GetAntivirusServiceResultsFromAssemblyLine\",\n",
    "        func=get_antivirus_service_results_from_al,\n",
    "        description=\"useful for when you need to answer questions about AssemblyLine antivirus report for a given sha256\"\n",
    "    ),\n",
    "    Tool(\n",
    "        name = \"GetAntivirusServiceResultsFromBeaver\",\n",
    "        func=get_antivirus_service_results_from_beaver,\n",
    "        description=\"useful for when you need to answer questions about Beaver antivirus report for a given sha256\"\n",
    "    )\n",
    "]\n",
    "mrkl = initialize_agent(tools, llm, agent=AgentType.OPENAI_FUNCTIONS, verbose=True)"
   ]
  },
  {
   "cell_type": "code",
   "execution_count": null,
   "id": "ee9b1e43-10fb-4cc8-ba96-985a308851bc",
   "metadata": {},
   "outputs": [],
   "source": [
    "# from langchain.globals import set_verbose, set_debug\n",
    "# set_verbose(True)\n",
    "# set_debug(False)\n",
    "\n",
    "print(mrkl.run(\"What are the antivirus results for sha256 ca6a054154acb559a495cfea1923933a65c94a325834a3cf9f46d85d3adaacf5?\"))"
   ]
  },
  {
   "cell_type": "code",
   "execution_count": null,
   "id": "282900ab-05a7-4eb1-a742-04e83fdded36",
   "metadata": {},
   "outputs": [],
   "source": []
  },
  {
   "cell_type": "code",
   "execution_count": null,
   "id": "1fa3fe54-c123-4b9c-9501-de1851530e99",
   "metadata": {},
   "outputs": [],
   "source": []
  }
 ],
 "metadata": {
  "language_info": {
   "name": "python"
  }
 },
 "nbformat": 4,
 "nbformat_minor": 5
}

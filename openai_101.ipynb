{
 "cells": [
  {
   "cell_type": "code",
   "execution_count": null,
   "id": "b58bd2bb-9564-46eb-804b-529a8e6d43aa",
   "metadata": {},
   "outputs": [],
   "source": [
    "pip install python-dotenv"
   ]
  },
  {
   "cell_type": "code",
   "execution_count": null,
   "id": "9546c7e8-60d0-425f-aeb1-acd75680e639",
   "metadata": {},
   "outputs": [],
   "source": [
    "from dotenv import load_dotenv\n",
    "import os\n",
    "\n",
    "load_dotenv()\n",
    "\n",
    "OPENAI_API_KEY = os.getenv('OPENAI_API_KEY')"
   ]
  },
  {
   "cell_type": "code",
   "execution_count": null,
   "id": "d1ac62c4-4ad8-4234-beac-8d34530902b8",
   "metadata": {},
   "outputs": [],
   "source": [
    "# # UNCOMMENT AND RUN THIS CELL IF YOU NEED TO DEBUG YOUR HTTP CALLS\n",
    "\n",
    "# import logging\n",
    "\n",
    "# # These two lines enable debugging at httplib level (requests->urllib3->http.client)\n",
    "# # You will see the REQUEST, including HEADERS and DATA, and RESPONSE with HEADERS but without DATA.\n",
    "# # The only thing missing will be the response.body which is not logged.\n",
    "# try:\n",
    "#     import http.client as http_client\n",
    "# except ImportError:\n",
    "#     # Python 2\n",
    "#     import httplib as http_client\n",
    "# http_client.HTTPConnection.debuglevel = 1\n",
    "\n",
    "# # You must initialize logging, otherwise you'll not see debug output.\n",
    "# logging.basicConfig()\n",
    "# logging.getLogger().setLevel(logging.DEBUG)\n",
    "# requests_log = logging.getLogger(\"requests.packages.urllib3\")\n",
    "# requests_log.setLevel(logging.DEBUG)\n",
    "# requests_log.propagate = True"
   ]
  },
  {
   "cell_type": "code",
   "execution_count": null,
   "id": "4579fefa-c4d1-44a4-93ed-a629bb0781c8",
   "metadata": {},
   "outputs": [],
   "source": [
    "import requests\n",
    "import json\n",
    "\n",
    "def prompt_openai(prompt, model=\"gpt-3.5-turbo\", temperature=0.7):\n",
    "    body = {\n",
    "     \"model\": model,\n",
    "     \"messages\": [{\"role\": \"user\", \"content\": prompt}],\n",
    "     \"temperature\": temperature\n",
    "    }\n",
    "    return post_openai(body)\n",
    "\n",
    "def chat_openai(messages, model=\"gpt-3.5-turbo\", temperature=0.7):\n",
    "    body = {\n",
    "     \"model\": model,\n",
    "     \"messages\": messages,\n",
    "     \"temperature\": temperature\n",
    "    }\n",
    "    return post_openai(body)\n",
    "\n",
    "def post_openai(body):\n",
    "    response = requests.post(\n",
    "        \"https://api.openai.com/v1/chat/completions\",\n",
    "        headers={\n",
    "            \"Authorization\": f'Bearer {OPENAI_API_KEY}',\n",
    "            \"Content-Type\": \"application/json\"\n",
    "        },\n",
    "        json=body\n",
    "    )\n",
    "    \n",
    "    # print(response.request.headers)\n",
    "    # print(response.status_code)\n",
    "    \n",
    "    return json.loads(response.text)"
   ]
  },
  {
   "cell_type": "markdown",
   "id": "66c4329d-f841-467a-a8b0-9ca23eef4800",
   "metadata": {},
   "source": [
    "## Let's ask some basic questions"
   ]
  },
  {
   "cell_type": "code",
   "execution_count": null,
   "id": "b007ac40-0c27-485a-93f7-2643b5b1cf9a",
   "metadata": {},
   "outputs": [],
   "source": [
    "prompt = \"Who won the NHL Stanley cup in 1976\"\n",
    "json_data = prompt_openai(prompt)"
   ]
  },
  {
   "cell_type": "code",
   "execution_count": null,
   "id": "b65448ac-94ca-4222-8b17-69321463c549",
   "metadata": {},
   "outputs": [],
   "source": [
    "print(json_data[\"choices\"][0][\"message\"][\"content\"])"
   ]
  },
  {
   "cell_type": "code",
   "execution_count": null,
   "id": "96cfdc9b-56d5-41a8-b53a-9880ed6052a5",
   "metadata": {},
   "outputs": [],
   "source": [
    "prompt = \"Who scored the winning goal\"\n",
    "json_data = prompt_openai(prompt)"
   ]
  },
  {
   "cell_type": "code",
   "execution_count": null,
   "id": "0a608bc2-8d64-45fb-8f46-21c8326a5843",
   "metadata": {},
   "outputs": [],
   "source": [
    "print(json_data[\"choices\"][0][\"message\"][\"content\"])"
   ]
  },
  {
   "cell_type": "code",
   "execution_count": null,
   "id": "b2e5dd1e-f722-4690-8c05-7b0c4018ef6f",
   "metadata": {},
   "outputs": [],
   "source": [
    "messages= [ \n",
    "         {\"role\": \"user\", \"content\": \"Who won the NHL Stanley cup in 1976\"},\n",
    "         {\"role\": \"assistant\", \"content\": \"The Montreal Canadiens won the NHL Stanley Cup in 1976.\"},\n",
    "         {\"role\": \"user\", \"content\": \"Who scored the winning goal\"}\n",
    "]\n",
    "\n",
    "json_data = chat_openai(messages)"
   ]
  },
  {
   "cell_type": "code",
   "execution_count": null,
   "id": "d065841c-0a4c-4fda-b9ae-a5eca4c7b902",
   "metadata": {},
   "outputs": [],
   "source": [
    "print(json_data[\"choices\"][0][\"message\"][\"content\"])"
   ]
  },
  {
   "cell_type": "markdown",
   "id": "adf2498a-e0ef-41b7-9c97-507ef81c96a0",
   "metadata": {},
   "source": [
    "## Let's find out what it knows about AssemblyLine"
   ]
  },
  {
   "cell_type": "code",
   "execution_count": null,
   "id": "f7fc08e8-4c97-427c-8609-1a11ae7cf0ca",
   "metadata": {},
   "outputs": [],
   "source": [
    "prompt = \"When was the AssemblyLine, the malware analysis platform, first open sourced\"\n",
    "json_data = prompt_openai(prompt)\n",
    "assistant_response = json_data[\"choices\"][0][\"message\"][\"content\"]\n",
    "print(assistant_response)"
   ]
  },
  {
   "cell_type": "code",
   "execution_count": null,
   "id": "42dd53ed-57f4-4075-a6b0-07b21d6ab868",
   "metadata": {},
   "outputs": [],
   "source": [
    "messages= [ \n",
    "         {\"role\": \"user\", \"content\": \"When was the AssemblyLine, the malware analysis platform, first released\"},\n",
    "         {\"role\": \"assistant\", \"content\": assistant_response},\n",
    "         {\"role\": \"user\", \"content\": \"What can it be used for\"}\n",
    "]\n",
    "\n",
    "json_data = chat_openai(messages)\n",
    "print(json_data[\"choices\"][0][\"message\"][\"content\"])"
   ]
  },
  {
   "cell_type": "markdown",
   "id": "cfc1706d-807f-4482-acb0-89c8756d098a",
   "metadata": {},
   "source": [
    "## Let's use the API now"
   ]
  },
  {
   "cell_type": "code",
   "execution_count": null,
   "id": "9a1c1a56-d986-48f6-85d5-7af339458564",
   "metadata": {},
   "outputs": [],
   "source": [
    "import openai\n",
    "openai.api_key = OPENAI_API_KEY\n",
    "\n",
    "prompt = \"Who is Doug Ford married to\"\n",
    "\n",
    "response = openai.Completion.create(\n",
    "    model=\"text-davinci-003\",\n",
    "    prompt=prompt\n",
    ")\n",
    "# response\n",
    "print(response[\"choices\"][0][\"text\"])"
   ]
  },
  {
   "cell_type": "code",
   "execution_count": null,
   "id": "aa4b2d44-492c-42bb-8856-99803bcb6d07",
   "metadata": {},
   "outputs": [],
   "source": [
    "messages = [{\"role\": \"user\", \"content\": \"Who was the Prime Minister of Canada in 2015\"}]\n",
    "response = openai.ChatCompletion.create(\n",
    "    model=\"gpt-3.5-turbo\",\n",
    "    messages=messages\n",
    ")\n",
    "# response\n",
    "print(response[\"choices\"][0][\"message\"][\"content\"])"
   ]
  },
  {
   "cell_type": "code",
   "execution_count": null,
   "id": "07d8760a-d289-4736-bec5-9a341f22299b",
   "metadata": {},
   "outputs": [],
   "source": []
  }
 ],
 "metadata": {
  "language_info": {
   "name": "python"
  }
 },
 "nbformat": 4,
 "nbformat_minor": 5
}

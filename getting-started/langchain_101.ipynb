{
 "cells": [
  {
   "cell_type": "code",
   "execution_count": null,
   "id": "e5a8f28e-a24c-4f8c-84c5-082ce3287384",
   "metadata": {},
   "outputs": [],
   "source": [
    "pip install langchain"
   ]
  },
  {
   "cell_type": "code",
   "execution_count": null,
   "id": "05b74488-b50e-473c-9a5d-2ce29ac4645a",
   "metadata": {},
   "outputs": [],
   "source": [
    "from dotenv import load_dotenv\n",
    "import os\n",
    "\n",
    "load_dotenv('../.env')"
   ]
  },
  {
   "cell_type": "markdown",
   "id": "3ebb5108-c3e1-4dc0-be1b-e5a3070e8195",
   "metadata": {},
   "source": [
    "## langchain OpenAI LLM"
   ]
  },
  {
   "cell_type": "code",
   "execution_count": null,
   "id": "e988f394-f019-4118-bdcc-eeb63aec0efd",
   "metadata": {},
   "outputs": [],
   "source": [
    "from langchain_openai import OpenAI\n",
    "from langchain.prompts import PromptTemplate\n",
    "from langchain.chains import LLMChain"
   ]
  },
  {
   "cell_type": "code",
   "execution_count": null,
   "id": "7527e329-d33d-4942-9964-059412ce3eda",
   "metadata": {},
   "outputs": [],
   "source": [
    "template = \"\"\"Question: {question}\n",
    "\n",
    "Answer: Let's think step by step.\"\"\"\n",
    "\n",
    "prompt = PromptTemplate(template=template, input_variables=[\"question\"])"
   ]
  },
  {
   "cell_type": "code",
   "execution_count": null,
   "id": "192e65f0-64f3-4c67-9508-6e69ee179a45",
   "metadata": {},
   "outputs": [],
   "source": [
    "llm = OpenAI()\n",
    "llm_chain = LLMChain(prompt=prompt, llm=llm)"
   ]
  },
  {
   "cell_type": "code",
   "execution_count": null,
   "id": "0259a4f7-31c9-4852-b756-8aa61a4187c6",
   "metadata": {},
   "outputs": [],
   "source": [
    "question = \"What NFL team won the Super Bowl in the year Justin Beiber was born?\"\n",
    "\n",
    "response = llm_chain.invoke(question)\n",
    "print(response['text'])"
   ]
  },
  {
   "cell_type": "markdown",
   "id": "1b5e5ae1-648f-4b91-bae0-07e578520a71",
   "metadata": {},
   "source": [
    "## langchain ChatOpenAI "
   ]
  },
  {
   "cell_type": "code",
   "execution_count": null,
   "id": "4ecf65b4-fc3e-4176-8b7c-a2fd36d2db0f",
   "metadata": {},
   "outputs": [],
   "source": [
    "from langchain_openai import ChatOpenAI\n",
    "from langchain.prompts.chat import (\n",
    "    ChatPromptTemplate,\n",
    "    SystemMessagePromptTemplate,\n",
    "    AIMessagePromptTemplate,\n",
    "    HumanMessagePromptTemplate,\n",
    ")\n",
    "from langchain.schema import AIMessage, HumanMessage, SystemMessage"
   ]
  },
  {
   "cell_type": "code",
   "execution_count": null,
   "id": "8400058f-40ad-48af-8037-f6b268b291c9",
   "metadata": {},
   "outputs": [],
   "source": [
    "chat = ChatOpenAI(temperature=0.25)"
   ]
  },
  {
   "cell_type": "code",
   "execution_count": null,
   "id": "78ea7114-8b56-4200-ad37-40d3f4596ca2",
   "metadata": {},
   "outputs": [],
   "source": [
    "messages = [\n",
    "    SystemMessage(\n",
    "        content=\"You are a helpful assistant that translates English to French.\"\n",
    "    ),\n",
    "    HumanMessage(\n",
    "        content=\"Translate this sentence from English to French. I love programming.\"\n",
    "    ),\n",
    "]\n",
    "chat(messages)"
   ]
  },
  {
   "cell_type": "markdown",
   "id": "1e018371-9661-4da3-a105-fcfcc6d68591",
   "metadata": {},
   "source": [
    "### langchain ChatOpenAI (with templates)"
   ]
  },
  {
   "cell_type": "code",
   "execution_count": null,
   "id": "b3f1404a-3cb6-4318-998a-174a971f3a1f",
   "metadata": {},
   "outputs": [],
   "source": [
    "template = (\n",
    "    \"You are a helpful assistant that translates {input_language} to {output_language}.\"\n",
    ")\n",
    "system_message_prompt = SystemMessagePromptTemplate.from_template(template)\n",
    "human_template = \"{text}\"\n",
    "human_message_prompt = HumanMessagePromptTemplate.from_template(human_template)\n",
    "chat_prompt = ChatPromptTemplate.from_messages(\n",
    "    [system_message_prompt, human_message_prompt]\n",
    ")"
   ]
  },
  {
   "cell_type": "code",
   "execution_count": null,
   "id": "e47a6147-c922-4c26-a66c-9b0f977b5585",
   "metadata": {},
   "outputs": [],
   "source": [
    "# get a chat completion from the formatted messages\n",
    "chat(\n",
    "    chat_prompt.format_prompt(\n",
    "        input_language=\"English\", output_language=\"French\", text=\"I love programming.\"\n",
    "    ).to_messages()\n",
    ")"
   ]
  },
  {
   "cell_type": "markdown",
   "id": "f5dea969-f53a-413f-87d8-e5feefbbd5be",
   "metadata": {},
   "source": [
    "## langchain tool calling python function"
   ]
  },
  {
   "cell_type": "code",
   "execution_count": null,
   "id": "aae0e34c-4260-44a3-80fb-8e3517e5cbdb",
   "metadata": {},
   "outputs": [],
   "source": [
    "template = \"\"\"Question: {question} Answer: You are very powerful assistant, but don't know current events.\"\"\"\n",
    "prompt = PromptTemplate(template=template, input_variables=[\"question\"])\n",
    "llm_chain = LLMChain(prompt=prompt, llm=llm)\n",
    "\n",
    "question = \"What's the weather like in Boston?\"\n",
    "response = llm_chain.invoke(question)\n",
    "print(response['text'])"
   ]
  },
  {
   "cell_type": "code",
   "execution_count": null,
   "id": "ab7df4aa-cf96-4ff9-a7e1-21fcd41c2131",
   "metadata": {},
   "outputs": [],
   "source": [
    "import json\n",
    "\n",
    "def get_current_weather(location, unit=\"fahrenheit\"):\n",
    "    \"\"\"Get the current weather in a given location\"\"\"\n",
    "    weather_info = {\n",
    "        \"location\": location,\n",
    "        \"temperature\": \"72\",\n",
    "        \"unit\": unit,\n",
    "        \"forecast\": [\"sunny\", \"windy\"],\n",
    "    }\n",
    "    return json.dumps(weather_info)"
   ]
  },
  {
   "cell_type": "code",
   "execution_count": null,
   "id": "c1de2aa7-e4c3-450a-90ff-9df0b92a26ba",
   "metadata": {},
   "outputs": [],
   "source": [
    "from langchain.agents import initialize_agent, Tool\n",
    "from langchain.agents import AgentType\n",
    "from langchain.agents import AgentExecutor, create_openai_functions_agent\n",
    "from langchain_core.prompts import ChatPromptTemplate, MessagesPlaceholder\n",
    "\n",
    "llm = ChatOpenAI(temperature=0.7, model=\"gpt-3.5-turbo-0125\")\n",
    "tools = [\n",
    "    Tool(\n",
    "        name = \"GetCurrentWeather\",\n",
    "        func=get_current_weather,\n",
    "        description=\"useful for when you need to answer questions about current weather for a given location\"\n",
    "    )\n",
    "]\n",
    "\n",
    "prompt = ChatPromptTemplate.from_messages(\n",
    "    [\n",
    "        (\"system\", \"You are very powerful assistant, but don't know current events\",),\n",
    "        (\"user\", \"{input}\"),\n",
    "        MessagesPlaceholder(variable_name=\"agent_scratchpad\"),\n",
    "    ]\n",
    ")\n",
    "agent = create_openai_functions_agent(llm, tools, prompt)\n",
    "agent_executor = AgentExecutor(agent=agent, tools=tools, verbose=False, debug=False)"
   ]
  },
  {
   "cell_type": "code",
   "execution_count": null,
   "id": "0412ea5f-80ff-4b05-a482-26a6ea23db3d",
   "metadata": {},
   "outputs": [],
   "source": [
    "print(agent_executor.invoke({\"input\": question})['output'])"
   ]
  },
  {
   "cell_type": "code",
   "execution_count": null,
   "id": "1fa3fe54-c123-4b9c-9501-de1851530e99",
   "metadata": {},
   "outputs": [],
   "source": []
  }
 ],
 "metadata": {
  "kernelspec": {
   "display_name": "Python 3 (ipykernel)",
   "language": "python",
   "name": "python3"
  },
  "language_info": {
   "codemirror_mode": {
    "name": "ipython",
    "version": 3
   },
   "file_extension": ".py",
   "mimetype": "text/x-python",
   "name": "python",
   "nbconvert_exporter": "python",
   "pygments_lexer": "ipython3",
   "version": "3.10.13"
  }
 },
 "nbformat": 4,
 "nbformat_minor": 5
}

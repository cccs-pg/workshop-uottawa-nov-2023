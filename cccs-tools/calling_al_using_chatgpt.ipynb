{
 "cells": [
  {
   "cell_type": "code",
   "execution_count": null,
   "id": "06b67b4d-c941-4c03-b819-99b853c9a17e",
   "metadata": {},
   "outputs": [],
   "source": [
    "import openai\n",
    "from dotenv import load_dotenv\n",
    "import os\n",
    "\n",
    "load_dotenv('../.env')\n",
    "\n",
    "openai.api_key = os.getenv('OPENAI_API_KEY')\n",
    "AL_API_KEY = os.getenv('AL_API_KEY')\n",
    "AL_USER = os.getenv('AL_USER')"
   ]
  },
  {
   "cell_type": "code",
   "execution_count": null,
   "id": "a014d9e9-3048-4af2-bb84-d2ebafdcfffc",
   "metadata": {},
   "outputs": [],
   "source": [
    "from assemblyline_client import get_client\n",
    "al_client = get_client(\"https://malware.cyber.gc.ca:443\", apikey=(AL_USER, AL_API_KEY))"
   ]
  },
  {
   "cell_type": "code",
   "execution_count": null,
   "id": "3309a3f8-be31-4d0c-ac4b-d2519ec8b9dc",
   "metadata": {},
   "outputs": [],
   "source": [
    "import json\n",
    "\n",
    "def get_antivirus_service_results_from_al(sha256):\n",
    "    \"\"\"Get the AssemblyLine antivirus report for the given sha256\"\"\"\n",
    "    search_result = al_client.search.result(f'sha256:{sha256} AND response.service_name:AntiVirus', fl=\"*\")\n",
    "\n",
    "    if len(search_result['items']) > 0:\n",
    "        return json.dumps([i['title_text'] for i in search_result['items'][0]['result']['sections']])\n",
    "    else:\n",
    "        return \"No antivirus report available for this sha256 in AssemblyLine\"\n",
    "    \n",
    "def run_conversation(prompt):\n",
    "    # Step 1: send the conversation and available functions to GPT\n",
    "    messages = [{\"role\": \"user\", \"content\": prompt}]\n",
    "    functions = [\n",
    "        {\n",
    "            \"name\": \"get_antivirus_service_results_from_al\",\n",
    "            \"description\": \"Get the AssemblyLine antivirus results for a given sha256\",\n",
    "            \"parameters\": {\n",
    "                \"type\": \"object\",\n",
    "                \"properties\": {\n",
    "                    \"sha256\": {\n",
    "                        \"type\": \"string\",\n",
    "                        \"description\": \"The sha256 value\",\n",
    "                    }\n",
    "                },\n",
    "                \"required\": [\"sha256\"],\n",
    "            },\n",
    "        }\n",
    "    ]\n",
    "    response = openai.ChatCompletion.create(\n",
    "        model=\"gpt-3.5-turbo-1106\",\n",
    "        messages=messages,\n",
    "        functions=functions,\n",
    "        function_call=\"auto\",  # auto is default, but we'll be explicit\n",
    "    )\n",
    "    response_message = response[\"choices\"][0][\"message\"]\n",
    "\n",
    "    # Step 2: check if GPT wanted to call a function\n",
    "    if response_message.get(\"function_call\"):\n",
    "        # Step 3: call the function\n",
    "        # Note: the JSON response may not always be valid; be sure to handle errors\n",
    "        available_functions = {\n",
    "            \"get_antivirus_service_results_from_al\": get_antivirus_service_results_from_al,\n",
    "        }  # only one function in this example, but you can have multiple\n",
    "        function_name = response_message[\"function_call\"][\"name\"]\n",
    "        function_to_call = available_functions[function_name]\n",
    "        function_args = json.loads(response_message[\"function_call\"][\"arguments\"])\n",
    "        function_response = function_to_call(\n",
    "            sha256=function_args.get(\"sha256\")\n",
    "        )\n",
    "\n",
    "        # Step 4: send the info on the function call and function response to GPT\n",
    "        messages.append(response_message)  # extend conversation with assistant's reply\n",
    "        messages.append(\n",
    "            {\n",
    "                \"role\": \"function\",\n",
    "                \"name\": function_name,\n",
    "                \"content\": function_response,\n",
    "            }\n",
    "        )  # extend conversation with function response\n",
    "        second_response = openai.ChatCompletion.create(\n",
    "            model=\"gpt-3.5-turbo-1106\",\n",
    "            messages=messages,\n",
    "        )  # get a new response from GPT where it can see the function response\n",
    "        return second_response"
   ]
  },
  {
   "cell_type": "code",
   "execution_count": null,
   "id": "022d96b0-84c6-4b43-a92b-97c5dbf5aacd",
   "metadata": {},
   "outputs": [],
   "source": [
    "response = run_conversation(\"What are the AssemblyLine antivirus results for sha256 af42459d9989ef3ff60d43e8069b647bfa2307e847452d2848dcc6f970984104?\")"
   ]
  },
  {
   "cell_type": "code",
   "execution_count": null,
   "id": "8f0fc9e4-9234-482d-b09b-1f4af4e771ef",
   "metadata": {},
   "outputs": [],
   "source": [
    "print(response.choices[0].message.content)"
   ]
  },
  {
   "cell_type": "code",
   "execution_count": null,
   "id": "85ca4657-a5a3-4e93-9125-831014d4d9b4",
   "metadata": {},
   "outputs": [],
   "source": [
    "response = run_conversation(\"What are the AssemblyLine antivirus results for sha256 6db809dc08b230ed5878b049e2787369fd47fd4dd28aad3fd07dbd6a2408f8aa?\")"
   ]
  },
  {
   "cell_type": "code",
   "execution_count": null,
   "id": "4960ee2a-f1b4-4477-9a44-cfb0b165d3aa",
   "metadata": {},
   "outputs": [],
   "source": [
    "print(response.choices[0].message.content)"
   ]
  },
  {
   "cell_type": "code",
   "execution_count": null,
   "id": "747befa8-73e8-4f50-849d-ae018cac2675",
   "metadata": {},
   "outputs": [],
   "source": []
  }
 ],
 "metadata": {
  "language_info": {
   "name": "python"
  }
 },
 "nbformat": 4,
 "nbformat_minor": 5
}

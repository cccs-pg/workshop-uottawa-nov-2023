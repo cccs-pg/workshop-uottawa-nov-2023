{
 "cells": [
  {
   "cell_type": "code",
   "execution_count": null,
   "id": "119832f8-563b-4da9-a3ef-f43858edf6c7",
   "metadata": {},
   "outputs": [],
   "source": [
    "from langchain.agents import Tool\n",
    "from langchain.agents import AgentType\n",
    "from langchain.memory import ConversationBufferMemory\n",
    "from langchain.llms import OpenAI\n",
    "from langchain.chat_models import ChatOpenAI\n",
    "from langchain.agents import initialize_agent"
   ]
  },
  {
   "cell_type": "code",
   "execution_count": null,
   "id": "cb38ee7d-aa30-4d7c-a7dc-e0b86eb4ad4e",
   "metadata": {},
   "outputs": [],
   "source": [
    "from dotenv import load_dotenv\n",
    "load_dotenv('../.env')\n",
    "\n",
    "AL_SUBMIT_API_KEY = os.getenv('AL_SUBMIT_API_KEY')\n",
    "AL_USER = os.getenv('AL_USER')"
   ]
  },
  {
   "cell_type": "code",
   "execution_count": null,
   "id": "3f4b478f-2ed6-4ab1-8aa7-8aa8d7cdf1ef",
   "metadata": {},
   "outputs": [],
   "source": [
    "import hashlib\n",
    "import os\n",
    "\n",
    "def calculateFileSha256(filename):\n",
    "    with open(filename,\"rb\") as f:\n",
    "        bytes = f.read() # read entire file as bytes\n",
    "        readable_hash = hashlib.sha256(bytes).hexdigest();\n",
    "        return readable_hash\n",
    "\n",
    "def submitFileToAL(filename):\n",
    "    from assemblyline_client import get_client\n",
    "    al_client = get_client(\"https://malware.cyber.gc.ca:443\", apikey=(AL_USER, AL_SUBMIT_API_KEY))\n",
    "\n",
    "    with open(filename,\"rb\") as f:\n",
    "        bytes = f.read()\n",
    "        submit_result = al_client.submit(fname=filename, content=bytes)\n",
    "    \n",
    "    return submit_result"
   ]
  },
  {
   "cell_type": "code",
   "execution_count": null,
   "id": "b8b471b3-d9ab-49d0-bda9-da651da17149",
   "metadata": {},
   "outputs": [],
   "source": [
    "tools = [\n",
    "    Tool(\n",
    "        name = \"CalculateFileSha256\",\n",
    "        func=calculateFileSha256,\n",
    "        description=\"useful for when you need to calculate the sha256 of a file\"\n",
    "    ),\n",
    "    Tool(\n",
    "        name = \"SubmitFileToAssemblyLine\",\n",
    "        func=submitFileToAL,\n",
    "        description=\"useful for when you want to submit a file, using its filename, to the malware analysis platform AssemblyLine\"\n",
    "    )\n",
    "]"
   ]
  },
  {
   "cell_type": "code",
   "execution_count": null,
   "id": "078572ad-6cb2-4ee9-9cb2-3f05e79a6e9f",
   "metadata": {},
   "outputs": [],
   "source": [
    "memory = ConversationBufferMemory(memory_key=\"chat_history\")\n",
    "llm=ChatOpenAI(model=\"gpt-3.5-turbo-1106\")\n",
    "agent_chain = initialize_agent(tools, llm, agent=AgentType.CONVERSATIONAL_REACT_DESCRIPTION, verbose=True, memory=memory)"
   ]
  },
  {
   "cell_type": "code",
   "execution_count": null,
   "id": "6ed00944-3042-4b8c-b492-f01ae5277118",
   "metadata": {},
   "outputs": [],
   "source": [
    "agent_chain.run(\"what is the sha256 of file benign_script.sh\")"
   ]
  },
  {
   "cell_type": "code",
   "execution_count": null,
   "id": "26210a33-4fb3-445d-9c1d-f30eb063ea40",
   "metadata": {},
   "outputs": [],
   "source": [
    "agent_chain.run(\"please submit this file to AssemblyLine\")"
   ]
  },
  {
   "cell_type": "code",
   "execution_count": null,
   "id": "0fabd82d-6fa5-4bbd-912c-f01232941d63",
   "metadata": {},
   "outputs": [],
   "source": [
    "agent_chain.run(\"please submit file mydoc.docx to AssemblyLine\")"
   ]
  },
  {
   "cell_type": "code",
   "execution_count": null,
   "id": "f5e69b6f-68bf-4c3a-a4bf-7340e96137a1",
   "metadata": {},
   "outputs": [],
   "source": []
  }
 ],
 "metadata": {
  "kernelspec": {
   "display_name": "Python 3 (ipykernel)",
   "language": "python",
   "name": "python3"
  },
  "language_info": {
   "codemirror_mode": {
    "name": "ipython",
    "version": 3
   },
   "file_extension": ".py",
   "mimetype": "text/x-python",
   "name": "python",
   "nbconvert_exporter": "python",
   "pygments_lexer": "ipython3",
   "version": "3.9.6"
  }
 },
 "nbformat": 4,
 "nbformat_minor": 5
}

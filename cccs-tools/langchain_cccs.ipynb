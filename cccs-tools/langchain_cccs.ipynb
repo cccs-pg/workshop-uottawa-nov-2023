{
 "cells": [
  {
   "cell_type": "code",
   "execution_count": null,
   "id": "e5a8f28e-a24c-4f8c-84c5-082ce3287384",
   "metadata": {},
   "outputs": [],
   "source": [
    "pip install langchain"
   ]
  },
  {
   "cell_type": "code",
   "execution_count": null,
   "id": "05b74488-b50e-473c-9a5d-2ce29ac4645a",
   "metadata": {},
   "outputs": [],
   "source": [
    "from dotenv import load_dotenv\n",
    "import os\n",
    "import json\n",
    "\n",
    "load_dotenv('../.env')"
   ]
  },
  {
   "cell_type": "code",
   "execution_count": null,
   "id": "e988f394-f019-4118-bdcc-eeb63aec0efd",
   "metadata": {},
   "outputs": [],
   "source": [
    "from langchain.llms import OpenAI\n",
    "from langchain.prompts import PromptTemplate\n",
    "from langchain.chains import LLMChain\n",
    "from langchain.chat_models import ChatOpenAI\n",
    "from langchain.prompts.chat import (\n",
    "    ChatPromptTemplate,\n",
    "    SystemMessagePromptTemplate,\n",
    "    AIMessagePromptTemplate,\n",
    "    HumanMessagePromptTemplate,\n",
    ")\n",
    "from langchain.schema import AIMessage, HumanMessage, SystemMessage\n",
    "from langchain.agents import initialize_agent, Tool\n",
    "from langchain.agents import AgentType\n",
    "\n",
    "llm = ChatOpenAI(temperature=0, model=\"gpt-3.5-turbo-1106\")"
   ]
  },
  {
   "cell_type": "markdown",
   "id": "60f9a013-f98f-4aaf-8357-10bbb5abbf15",
   "metadata": {},
   "source": [
    "## langchain calling CCCS tools: AssemblyLine and Beaver"
   ]
  },
  {
   "cell_type": "code",
   "execution_count": null,
   "id": "669f53b0-3694-4430-8d0a-3030e2e9997b",
   "metadata": {},
   "outputs": [],
   "source": [
    "AL_API_KEY = os.getenv('AL_API_KEY')\n",
    "AL_USER = os.getenv('AL_USER')\n",
    "BEAVER_API_KEY = os.getenv('BEAVER_API_KEY')"
   ]
  },
  {
   "cell_type": "code",
   "execution_count": null,
   "id": "eedc5953-7144-43d9-b3ca-21c32fa7f3bd",
   "metadata": {},
   "outputs": [],
   "source": [
    "from assemblyline_client import get_client\n",
    "al_client = get_client(\"https://malware.cyber.gc.ca:443\", apikey=(AL_USER, AL_API_KEY))"
   ]
  },
  {
   "cell_type": "code",
   "execution_count": null,
   "id": "6f832e63-30dd-43e8-854f-db5ba0ffc296",
   "metadata": {},
   "outputs": [],
   "source": [
    "import requests\n",
    "def beaver_search(sha256):\n",
    "    response = requests.get(\n",
    "        f\"https://beaver.ops.cyber.gc.ca/auth/api/sha256/{sha256}/json\",\n",
    "        headers={\n",
    "            \"X-API-Key\": BEAVER_API_KEY,\n",
    "            \"Accept\": \"application/json\",\n",
    "        }\n",
    "    )\n",
    "    return response"
   ]
  },
  {
   "cell_type": "code",
   "execution_count": null,
   "id": "f09807fc-1f50-4fab-b8e4-8c1b73e7b334",
   "metadata": {},
   "outputs": [],
   "source": [
    "def get_antivirus_service_results_from_al(sha256):\n",
    "    \"\"\"Get the AssemblyLine antivirus report for the given sha256\"\"\"\n",
    "    search_result = al_client.search.result(f'sha256:{sha256} AND response.service_name:AntiVirus', fl=\"*\")\n",
    "    # return \"\\n\".join([i['title_text'] for i in search_result['items'][0]['result']['sections']])\n",
    "    if len(search_result['items']) > 0:\n",
    "        return json.dumps([i['title_text'] for i in search_result['items'][0]['result']['sections']])\n",
    "    else:\n",
    "        return \"No antivirus report available for this sha256 in AssemblyLine\"\n",
    "\n",
    "def get_antivirus_service_results_from_beaver(sha256):\n",
    "    response = beaver_search(sha256)\n",
    "    if response.status_code == 200:\n",
    "        json_data = json.loads(response.text)\n",
    "        if \"SHADOW_SERVER\" in json_data['malwareReport']['reports']:\n",
    "            return json.dumps(json_data['malwareReport']['reports']['SHADOW_SERVER'][0]['results'])\n",
    "    return \"No antivirus report available for this sha256 in Beaver\""
   ]
  },
  {
   "cell_type": "code",
   "execution_count": null,
   "id": "22ae0df6-797d-4aa2-ab0f-4bd49161cdb8",
   "metadata": {},
   "outputs": [],
   "source": [
    "tools = [\n",
    "    Tool(\n",
    "        name = \"GetAntivirusServiceResultsFromAssemblyLine\",\n",
    "        func=get_antivirus_service_results_from_al,\n",
    "        description=\"useful for when you need to answer questions about AssemblyLine's antivirus reports for a given sha256.  AssemblyLine is a CCCS tool available at: https://malware.cyber.gc.ca\"\n",
    "    ),\n",
    "    Tool(\n",
    "        name = \"GetAntivirusServiceResultsFromBeaver\",\n",
    "        func=get_antivirus_service_results_from_beaver,\n",
    "        description=\"useful for when you need to answer questions about Beaver's antivirus reports for a given sha256.  Beaver is a CCCS tool available at https://beaver.ops.cyber.gc.ca\"\n",
    "    )\n",
    "]\n",
    "mrkl = initialize_agent(tools, llm, agent=AgentType.OPENAI_FUNCTIONS, verbose=False, debug=False)"
   ]
  },
  {
   "cell_type": "code",
   "execution_count": null,
   "id": "ee9b1e43-10fb-4cc8-ba96-985a308851bc",
   "metadata": {},
   "outputs": [],
   "source": [
    "# from langchain.globals import set_verbose, set_debug\n",
    "# set_verbose(True)\n",
    "# set_debug(False)\n",
    "print(mrkl.run(\"What are the antivirus results in AssemblyLine and BeAVER for sha256 af42459d9989ef3ff60d43e8069b647bfa2307e847452d2848dcc6f970984104?\"))"
   ]
  },
  {
   "cell_type": "code",
   "execution_count": null,
   "id": "282900ab-05a7-4eb1-a742-04e83fdded36",
   "metadata": {},
   "outputs": [],
   "source": [
    "print(mrkl.run(\"What are the antivirus results in AssemblyLine and BeAVER for sha256 ca6a054154acb559a495cfea1923933a65c94a325834a3cf9f46d85d3adaacf5?\"))"
   ]
  },
  {
   "cell_type": "code",
   "execution_count": null,
   "id": "1fa3fe54-c123-4b9c-9501-de1851530e99",
   "metadata": {},
   "outputs": [],
   "source": []
  }
 ],
 "metadata": {
  "kernelspec": {
   "display_name": "Python 3 (ipykernel)",
   "language": "python",
   "name": "python3"
  },
  "language_info": {
   "codemirror_mode": {
    "name": "ipython",
    "version": 3
   },
   "file_extension": ".py",
   "mimetype": "text/x-python",
   "name": "python",
   "nbconvert_exporter": "python",
   "pygments_lexer": "ipython3",
   "version": "3.9.6"
  }
 },
 "nbformat": 4,
 "nbformat_minor": 5
}

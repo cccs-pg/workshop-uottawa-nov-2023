{
 "cells": [
  {
   "cell_type": "code",
   "execution_count": null,
   "id": "5051185a-58d3-4678-8d86-e8093164b3bd",
   "metadata": {},
   "outputs": [],
   "source": [
    "from dotenv import load_dotenv\n",
    "import os\n",
    "\n",
    "load_dotenv('../.env')\n",
    "\n",
    "BEAVER_API_KEY = os.getenv('BEAVER_API_KEY')"
   ]
  },
  {
   "cell_type": "code",
   "execution_count": null,
   "id": "3fa8171b-f417-4e05-9c05-c3bf4d5626c8",
   "metadata": {},
   "outputs": [],
   "source": [
    "# import logging\n",
    "\n",
    "# # These two lines enable debugging at httplib level (requests->urllib3->http.client)\n",
    "# # You will see the REQUEST, including HEADERS and DATA, and RESPONSE with HEADERS but without DATA.\n",
    "# # The only thing missing will be the response.body which is not logged.\n",
    "# try:\n",
    "#     import http.client as http_client\n",
    "# except ImportError:\n",
    "#     # Python 2\n",
    "#     import httplib as http_client\n",
    "# http_client.HTTPConnection.debuglevel = 1\n",
    "\n",
    "# # You must initialize logging, otherwise you'll not see debug output.\n",
    "# logging.basicConfig()\n",
    "# logging.getLogger().setLevel(logging.DEBUG)\n",
    "# requests_log = logging.getLogger(\"requests.packages.urllib3\")\n",
    "# requests_log.setLevel(logging.DEBUG)\n",
    "# requests_log.propagate = True"
   ]
  },
  {
   "cell_type": "code",
   "execution_count": null,
   "id": "2eea5ff0-deaa-4bd8-b46e-17b4df438b96",
   "metadata": {},
   "outputs": [],
   "source": [
    "import json\n",
    "\n",
    "sha256 = \"ca6a054154acb559a495cfea1923933a65c94a325834a3cf9f46d85d3adaacf5\"\n",
    "\n",
    "body = {\n",
    "  \"msg\": [\n",
    "    {\n",
    "      \"type\": \"sha256\",\n",
    "      \"value\": sha256\n",
    "    }\n",
    "  ]\n",
    "}\n",
    "\n",
    "import requests\n",
    "response = requests.post(\n",
    "    \"https://beaver.ops.cyber.gc.ca/auth/api/search/terms\",\n",
    "    headers={\n",
    "        \"X-API-Key\": BEAVER_API_KEY,\n",
    "        \"Accept\": \"application/json\",\n",
    "        \"Content-Type\": \"application/json\"\n",
    "    },\n",
    "    json=body\n",
    ")\n",
    "\n",
    "# print(response.request.headers)\n",
    "# print(response.headers)\n",
    "print(response.status_code)\n",
    "\n",
    "json_data = json.loads(response.text)\n",
    "print(json_data)"
   ]
  },
  {
   "cell_type": "code",
   "execution_count": null,
   "id": "e2f2b1e0-862b-4ff4-8bc6-bca74913175c",
   "metadata": {},
   "outputs": [],
   "source": [
    "print(f\"Number of results: {json_data['result'][0]['searchResult']}\")\n",
    "print(f\"https://beaver.ops.cyber.gc.ca/auth/api{json_data['result'][0]['reportURL']}\")"
   ]
  },
  {
   "cell_type": "code",
   "execution_count": null,
   "id": "bf036d80-dbd4-4fc9-bbd6-eec5a7262b56",
   "metadata": {},
   "outputs": [],
   "source": [
    "response = requests.get(\n",
    "    # f\"https://beaver.ops.cyber.gc.ca/auth/api{json_data['result'][0]['reportURL']}\",\n",
    "    f\"https://beaver.ops.cyber.gc.ca/auth/api/sha256/{sha256}/json\",\n",
    "    headers={\n",
    "        \"X-API-Key\": BEAVER_API_KEY,\n",
    "        \"Accept\": \"application/json\",\n",
    "    }\n",
    ")\n",
    "print(response.headers)\n",
    "print(response.status_code)\n",
    "\n",
    "json_data = json.loads(response.text)"
   ]
  },
  {
   "cell_type": "code",
   "execution_count": null,
   "id": "d150ed57-7236-4170-bd8f-1ca475092c2c",
   "metadata": {},
   "outputs": [],
   "source": [
    "print(json_data['malwareReport']['reports']['SHADOW_SERVER'][0]['results'])"
   ]
  },
  {
   "cell_type": "code",
   "execution_count": null,
   "id": "8476b382-0b03-4f1d-a268-1797fdee61d6",
   "metadata": {},
   "outputs": [],
   "source": [
    "json.dumps(json_data['malwareReport']['reports']['SHADOW_SERVER'][0]['results'])"
   ]
  },
  {
   "cell_type": "code",
   "execution_count": null,
   "id": "ea0ffc62-606c-4975-b145-a92fa1310b2f",
   "metadata": {},
   "outputs": [],
   "source": []
  }
 ],
 "metadata": {
  "language_info": {
   "name": "python"
  }
 },
 "nbformat": 4,
 "nbformat_minor": 5
}
